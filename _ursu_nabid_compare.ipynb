{
 "cells": [
  {
   "cell_type": "code",
   "execution_count": 2,
   "metadata": {},
   "outputs": [],
   "source": [
    "from contrastive_data import *\n",
    "from data_utils import *\n",
    "from main import *\n",
    "import numpy as np\n",
    "import pandas as pd\n",
    "import matplotlib.pyplot as plt\n",
    "import seaborn as sns\n",
    "from sklearn.decomposition import PCA\n",
    "from sklearn.linear_model import LogisticRegression\n",
    "from sklearn.preprocessing import StandardScaler\n",
    "from sklearn.pipeline import Pipeline\n",
    "from sklearn.model_selection import train_test_split, cross_val_score\n",
    "from scipy.io import mmread"
   ]
  },
  {
   "cell_type": "markdown",
   "metadata": {},
   "source": [
    "# Loading Ursu's data"
   ]
  },
  {
   "cell_type": "code",
   "execution_count": 2,
   "metadata": {},
   "outputs": [],
   "source": [
    "GENE = 'TP53'\n",
    "data_path = f'/home/lguirardel/data/perturb_comp/data/{GENE}/'\n",
    "data_type = 'processed' # 'raw' or 'processed'\n"
   ]
  },
  {
   "cell_type": "code",
   "execution_count": 3,
   "metadata": {},
   "outputs": [
    {
     "name": "stdout",
     "output_type": "stream",
     "text": [
      "\tReading files...\n",
      "\t\tReading matrix\n",
      "\t\tReading genes and cells\n",
      "\t\tReading variant data\n",
      "\tMerging and processing...\n",
      "\t\t99 variant classes\n"
     ]
    }
   ],
   "source": [
    "group_wt_like = False\n",
    "paths = get_paths(data_path, subset=data_type)\n",
    "counts = load_data(*paths, group_wt_like=group_wt_like)"
   ]
  },
  {
   "cell_type": "code",
   "execution_count": 4,
   "metadata": {},
   "outputs": [],
   "source": [
    "variant_data = pd.read_csv(paths[4], index_col=0)\n",
    "variant_data.loc['control'] = pd.Series({'Control status':'synonymous','Variant functional class':'WT-like'})"
   ]
  },
  {
   "cell_type": "code",
   "execution_count": 5,
   "metadata": {},
   "outputs": [],
   "source": [
    "with gzip.open(paths[3]) as file: # read cell tags\n",
    "    v2c = pd.read_csv(file, sep='\\t', usecols=['cell','variant'], index_col=1).squeeze()\n",
    "v2c = v2c[counts.index]"
   ]
  },
  {
   "cell_type": "code",
   "execution_count": 6,
   "metadata": {},
   "outputs": [
    {
     "data": {
      "text/plain": [
       "variant\n",
       "L344L     918\n",
       "R175H    1000\n",
       "dtype: int64"
      ]
     },
     "execution_count": 6,
     "metadata": {},
     "output_type": "execute_result"
    }
   ],
   "source": [
    "df_ursu = counts[counts['variant'].isin(['R175H', 'L344L'])].copy()\n",
    "df_ursu['variant'] = df_ursu['variant'].cat.remove_unused_categories()\n",
    "df_ursu.groupby('variant').size() # remove unused cats"
   ]
  },
  {
   "cell_type": "code",
   "execution_count": 7,
   "metadata": {},
   "outputs": [],
   "source": [
    "y_ursu = df_ursu['variant']\n",
    "x_ursu = df_ursu.iloc[:, :-3]"
   ]
  },
  {
   "cell_type": "markdown",
   "metadata": {},
   "source": [
    "# Reading Nabids data"
   ]
  },
  {
   "cell_type": "code",
   "execution_count": 5,
   "metadata": {},
   "outputs": [],
   "source": [
    "nabid_path = '/home/lguirardel/data/nabid_data/p53pilot/Data/'"
   ]
  },
  {
   "cell_type": "code",
   "execution_count": 5,
   "metadata": {},
   "outputs": [],
   "source": [
    "with open(nabid_path + 'RawData/filtered_feature_bc_matrix/matrix.mtx') as file:\n",
    "    mtx = mmread(file)"
   ]
  },
  {
   "cell_type": "code",
   "execution_count": 6,
   "metadata": {},
   "outputs": [],
   "source": [
    "genes = pd.read_csv(nabid_path + 'RawData/filtered_feature_bc_matrix/features.tsv', sep='\\t', header=None, names=['gene_id','gene_name','type'])['gene_id']\n",
    "cells = pd.read_csv(nabid_path + 'RawData/filtered_feature_bc_matrix/barcodes.tsv', header=None, names=['cell']).squeeze()\n",
    "x_nabid = pd.DataFrame(mtx.todense().T, columns=genes, index=cells)"
   ]
  },
  {
   "cell_type": "code",
   "execution_count": 11,
   "metadata": {},
   "outputs": [],
   "source": [
    "meta_nabid = pd.read_csv(nabid_path + 'MetaData/p53.meta.data.cell.type.csv', index_col=0)"
   ]
  },
  {
   "cell_type": "code",
   "execution_count": 12,
   "metadata": {},
   "outputs": [],
   "source": [
    "f = x_nabid.index.intersection(meta_nabid.index)\n",
    "x_nabid = x_nabid.loc[f]\n",
    "meta_nabid = meta_nabid.loc[f]"
   ]
  },
  {
   "cell_type": "code",
   "execution_count": 13,
   "metadata": {},
   "outputs": [],
   "source": [
    "x_nabid = x_nabid.loc[meta_nabid['WTvsMutant'].isin(['R175H','WT'])]\n",
    "y_nabid = meta_nabid.loc[meta_nabid['WTvsMutant'].isin(['R175H','WT'])]['WTvsMutant']"
   ]
  },
  {
   "cell_type": "code",
   "execution_count": 14,
   "metadata": {},
   "outputs": [
    {
     "data": {
      "text/plain": [
       "WTvsMutant\n",
       "WT       1587\n",
       "R175H    1275\n",
       "Name: count, dtype: int64"
      ]
     },
     "execution_count": 14,
     "metadata": {},
     "output_type": "execute_result"
    }
   ],
   "source": [
    "y_nabid.value_counts()"
   ]
  },
  {
   "cell_type": "markdown",
   "metadata": {},
   "source": [
    "# Wrangling Nabid's data to the Ursu format"
   ]
  },
  {
   "cell_type": "code",
   "execution_count": 3,
   "metadata": {},
   "outputs": [],
   "source": [
    "conditions = pd.read_csv('~/data/nabid_data/p53pilot/Data/conditions.csv', index_col=0)\n",
    "barcodes = pd.read_csv('~/data/nabid_data/p53pilot/Data/MetaData/p53.meta.data.cell.type.csv', index_col=0)"
   ]
  },
  {
   "cell_type": "code",
   "execution_count": 4,
   "metadata": {},
   "outputs": [
    {
     "ename": "NameError",
     "evalue": "name 'nabid_path' is not defined",
     "output_type": "error",
     "traceback": [
      "\u001b[0;31m---------------------------------------------------------------------------\u001b[0m",
      "\u001b[0;31mNameError\u001b[0m                                 Traceback (most recent call last)",
      "Cell \u001b[0;32mIn[4], line 1\u001b[0m\n\u001b[0;32m----> 1\u001b[0m genes \u001b[38;5;241m=\u001b[39m pd\u001b[38;5;241m.\u001b[39mread_csv(nabid_path \u001b[38;5;241m+\u001b[39m \u001b[38;5;124m'\u001b[39m\u001b[38;5;124mRawData/filtered_feature_bc_matrix/features.tsv\u001b[39m\u001b[38;5;124m'\u001b[39m, sep\u001b[38;5;241m=\u001b[39m\u001b[38;5;124m'\u001b[39m\u001b[38;5;130;01m\\t\u001b[39;00m\u001b[38;5;124m'\u001b[39m, header\u001b[38;5;241m=\u001b[39m\u001b[38;5;28;01mNone\u001b[39;00m, names\u001b[38;5;241m=\u001b[39m[\u001b[38;5;124m'\u001b[39m\u001b[38;5;124mgene_id\u001b[39m\u001b[38;5;124m'\u001b[39m,\u001b[38;5;124m'\u001b[39m\u001b[38;5;124mgene_name\u001b[39m\u001b[38;5;124m'\u001b[39m,\u001b[38;5;124m'\u001b[39m\u001b[38;5;124mtype\u001b[39m\u001b[38;5;124m'\u001b[39m])\n",
      "\u001b[0;31mNameError\u001b[0m: name 'nabid_path' is not defined"
     ]
    }
   ],
   "source": [
    "genes = pd.read_csv(nabid_path + 'RawData/filtered_feature_bc_matrix/features.tsv', sep='\\t', header=None, names=['gene_id','gene_name','type'])"
   ]
  },
  {
   "cell_type": "code",
   "execution_count": 16,
   "metadata": {},
   "outputs": [
    {
     "data": {
      "text/html": [
       "<div>\n",
       "<style scoped>\n",
       "    .dataframe tbody tr th:only-of-type {\n",
       "        vertical-align: middle;\n",
       "    }\n",
       "\n",
       "    .dataframe tbody tr th {\n",
       "        vertical-align: top;\n",
       "    }\n",
       "\n",
       "    .dataframe thead th {\n",
       "        text-align: right;\n",
       "    }\n",
       "</style>\n",
       "<table border=\"1\" class=\"dataframe\">\n",
       "  <thead>\n",
       "    <tr style=\"text-align: right;\">\n",
       "      <th></th>\n",
       "      <th>gene_id</th>\n",
       "      <th>gene_name</th>\n",
       "      <th>type</th>\n",
       "    </tr>\n",
       "  </thead>\n",
       "  <tbody>\n",
       "    <tr>\n",
       "      <th>3235</th>\n",
       "      <td>ENSG00000285053</td>\n",
       "      <td>TBCE</td>\n",
       "      <td>Gene Expression</td>\n",
       "    </tr>\n",
       "    <tr>\n",
       "      <th>3237</th>\n",
       "      <td>ENSG00000284770</td>\n",
       "      <td>TBCE</td>\n",
       "      <td>Gene Expression</td>\n",
       "    </tr>\n",
       "    <tr>\n",
       "      <th>5946</th>\n",
       "      <td>ENSG00000237940</td>\n",
       "      <td>LINC01238</td>\n",
       "      <td>Gene Expression</td>\n",
       "    </tr>\n",
       "    <tr>\n",
       "      <th>5950</th>\n",
       "      <td>ENSG00000261186</td>\n",
       "      <td>LINC01238</td>\n",
       "      <td>Gene Expression</td>\n",
       "    </tr>\n",
       "    <tr>\n",
       "      <th>6504</th>\n",
       "      <td>ENSG00000114395</td>\n",
       "      <td>CYB561D2</td>\n",
       "      <td>Gene Expression</td>\n",
       "    </tr>\n",
       "    <tr>\n",
       "      <th>6507</th>\n",
       "      <td>ENSG00000271858</td>\n",
       "      <td>CYB561D2</td>\n",
       "      <td>Gene Expression</td>\n",
       "    </tr>\n",
       "    <tr>\n",
       "      <th>10565</th>\n",
       "      <td>ENSG00000280987</td>\n",
       "      <td>MATR3</td>\n",
       "      <td>Gene Expression</td>\n",
       "    </tr>\n",
       "    <tr>\n",
       "      <th>10567</th>\n",
       "      <td>ENSG00000015479</td>\n",
       "      <td>MATR3</td>\n",
       "      <td>Gene Expression</td>\n",
       "    </tr>\n",
       "    <tr>\n",
       "      <th>16988</th>\n",
       "      <td>ENSG00000234323</td>\n",
       "      <td>LINC01505</td>\n",
       "      <td>Gene Expression</td>\n",
       "    </tr>\n",
       "    <tr>\n",
       "      <th>16992</th>\n",
       "      <td>ENSG00000234229</td>\n",
       "      <td>LINC01505</td>\n",
       "      <td>Gene Expression</td>\n",
       "    </tr>\n",
       "    <tr>\n",
       "      <th>17692</th>\n",
       "      <td>ENSG00000284024</td>\n",
       "      <td>HSPA14</td>\n",
       "      <td>Gene Expression</td>\n",
       "    </tr>\n",
       "    <tr>\n",
       "      <th>17693</th>\n",
       "      <td>ENSG00000187522</td>\n",
       "      <td>HSPA14</td>\n",
       "      <td>Gene Expression</td>\n",
       "    </tr>\n",
       "    <tr>\n",
       "      <th>25271</th>\n",
       "      <td>ENSG00000188626</td>\n",
       "      <td>GOLGA8M</td>\n",
       "      <td>Gene Expression</td>\n",
       "    </tr>\n",
       "    <tr>\n",
       "      <th>25272</th>\n",
       "      <td>ENSG00000261480</td>\n",
       "      <td>GOLGA8M</td>\n",
       "      <td>Gene Expression</td>\n",
       "    </tr>\n",
       "    <tr>\n",
       "      <th>34714</th>\n",
       "      <td>ENSG00000286070</td>\n",
       "      <td>GGT1</td>\n",
       "      <td>Gene Expression</td>\n",
       "    </tr>\n",
       "    <tr>\n",
       "      <th>34716</th>\n",
       "      <td>ENSG00000100031</td>\n",
       "      <td>GGT1</td>\n",
       "      <td>Gene Expression</td>\n",
       "    </tr>\n",
       "    <tr>\n",
       "      <th>35965</th>\n",
       "      <td>ENSG00000271147</td>\n",
       "      <td>ARMCX5-GPRASP2</td>\n",
       "      <td>Gene Expression</td>\n",
       "    </tr>\n",
       "    <tr>\n",
       "      <th>35970</th>\n",
       "      <td>ENSG00000286237</td>\n",
       "      <td>ARMCX5-GPRASP2</td>\n",
       "      <td>Gene Expression</td>\n",
       "    </tr>\n",
       "    <tr>\n",
       "      <th>36001</th>\n",
       "      <td>ENSG00000158427</td>\n",
       "      <td>TMSB15B</td>\n",
       "      <td>Gene Expression</td>\n",
       "    </tr>\n",
       "    <tr>\n",
       "      <th>36004</th>\n",
       "      <td>ENSG00000269226</td>\n",
       "      <td>TMSB15B</td>\n",
       "      <td>Gene Expression</td>\n",
       "    </tr>\n",
       "  </tbody>\n",
       "</table>\n",
       "</div>"
      ],
      "text/plain": [
       "               gene_id       gene_name             type\n",
       "3235   ENSG00000285053            TBCE  Gene Expression\n",
       "3237   ENSG00000284770            TBCE  Gene Expression\n",
       "5946   ENSG00000237940       LINC01238  Gene Expression\n",
       "5950   ENSG00000261186       LINC01238  Gene Expression\n",
       "6504   ENSG00000114395        CYB561D2  Gene Expression\n",
       "6507   ENSG00000271858        CYB561D2  Gene Expression\n",
       "10565  ENSG00000280987           MATR3  Gene Expression\n",
       "10567  ENSG00000015479           MATR3  Gene Expression\n",
       "16988  ENSG00000234323       LINC01505  Gene Expression\n",
       "16992  ENSG00000234229       LINC01505  Gene Expression\n",
       "17692  ENSG00000284024          HSPA14  Gene Expression\n",
       "17693  ENSG00000187522          HSPA14  Gene Expression\n",
       "25271  ENSG00000188626         GOLGA8M  Gene Expression\n",
       "25272  ENSG00000261480         GOLGA8M  Gene Expression\n",
       "34714  ENSG00000286070            GGT1  Gene Expression\n",
       "34716  ENSG00000100031            GGT1  Gene Expression\n",
       "35965  ENSG00000271147  ARMCX5-GPRASP2  Gene Expression\n",
       "35970  ENSG00000286237  ARMCX5-GPRASP2  Gene Expression\n",
       "36001  ENSG00000158427         TMSB15B  Gene Expression\n",
       "36004  ENSG00000269226         TMSB15B  Gene Expression"
      ]
     },
     "execution_count": 16,
     "metadata": {},
     "output_type": "execute_result"
    }
   ],
   "source": [
    "f = genes.gene_name.value_counts() > 1\n",
    "genes[genes.gene_name.isin(f[f].index)]"
   ]
  },
  {
   "cell_type": "code",
   "execution_count": 6,
   "metadata": {},
   "outputs": [
    {
     "data": {
      "text/html": [
       "<div>\n",
       "<style scoped>\n",
       "    .dataframe tbody tr th:only-of-type {\n",
       "        vertical-align: middle;\n",
       "    }\n",
       "\n",
       "    .dataframe tbody tr th {\n",
       "        vertical-align: top;\n",
       "    }\n",
       "\n",
       "    .dataframe thead th {\n",
       "        text-align: right;\n",
       "    }\n",
       "</style>\n",
       "<table border=\"1\" class=\"dataframe\">\n",
       "  <thead>\n",
       "    <tr style=\"text-align: right;\">\n",
       "      <th></th>\n",
       "      <th>orig.ident</th>\n",
       "      <th>nCount_RNA</th>\n",
       "      <th>nFeature_RNA</th>\n",
       "      <th>cell_type</th>\n",
       "      <th>WTvsMutant</th>\n",
       "    </tr>\n",
       "  </thead>\n",
       "  <tbody>\n",
       "    <tr>\n",
       "      <th>AAACCCAGTATCTCTT-1</th>\n",
       "      <td>pilot.v6.cell.types</td>\n",
       "      <td>31037</td>\n",
       "      <td>5767</td>\n",
       "      <td>R175H.P53.BC8</td>\n",
       "      <td>R175H</td>\n",
       "    </tr>\n",
       "    <tr>\n",
       "      <th>AAACCCAGTCGCTCGA-1</th>\n",
       "      <td>pilot.v6.cell.types</td>\n",
       "      <td>15175</td>\n",
       "      <td>3898</td>\n",
       "      <td>EV.BC9</td>\n",
       "      <td>Control</td>\n",
       "    </tr>\n",
       "    <tr>\n",
       "      <th>AAACCCAGTGACAACG-1</th>\n",
       "      <td>pilot.v6.cell.types</td>\n",
       "      <td>69602</td>\n",
       "      <td>8428</td>\n",
       "      <td>NaN</td>\n",
       "      <td>Unknown</td>\n",
       "    </tr>\n",
       "    <tr>\n",
       "      <th>AAACCCAGTGTTACTG-1</th>\n",
       "      <td>pilot.v6.cell.types</td>\n",
       "      <td>4425</td>\n",
       "      <td>1871</td>\n",
       "      <td>P53.BC3</td>\n",
       "      <td>WT</td>\n",
       "    </tr>\n",
       "    <tr>\n",
       "      <th>AAACCCATCAGGGTAG-1</th>\n",
       "      <td>pilot.v6.cell.types</td>\n",
       "      <td>38025</td>\n",
       "      <td>5726</td>\n",
       "      <td>NaN</td>\n",
       "      <td>Unknown</td>\n",
       "    </tr>\n",
       "  </tbody>\n",
       "</table>\n",
       "</div>"
      ],
      "text/plain": [
       "                             orig.ident  nCount_RNA  nFeature_RNA  \\\n",
       "AAACCCAGTATCTCTT-1  pilot.v6.cell.types       31037          5767   \n",
       "AAACCCAGTCGCTCGA-1  pilot.v6.cell.types       15175          3898   \n",
       "AAACCCAGTGACAACG-1  pilot.v6.cell.types       69602          8428   \n",
       "AAACCCAGTGTTACTG-1  pilot.v6.cell.types        4425          1871   \n",
       "AAACCCATCAGGGTAG-1  pilot.v6.cell.types       38025          5726   \n",
       "\n",
       "                        cell_type WTvsMutant  \n",
       "AAACCCAGTATCTCTT-1  R175H.P53.BC8      R175H  \n",
       "AAACCCAGTCGCTCGA-1         EV.BC9    Control  \n",
       "AAACCCAGTGACAACG-1            NaN    Unknown  \n",
       "AAACCCAGTGTTACTG-1        P53.BC3         WT  \n",
       "AAACCCATCAGGGTAG-1            NaN    Unknown  "
      ]
     },
     "execution_count": 6,
     "metadata": {},
     "output_type": "execute_result"
    }
   ],
   "source": [
    "barcodes.head()"
   ]
  },
  {
   "cell_type": "code",
   "execution_count": 16,
   "metadata": {},
   "outputs": [],
   "source": [
    "barcodes['cell_type'].reset_index().rename(columns={'index':'cell','cell_type':'variant'}).dropna()\\\n",
    "    .to_csv('~/data/nabid_data/p53pilot/Data/RawData/filtered_feature_bc_matrix/wrangled/nabid_tp53.variants2cell.csv', index=True, sep='\\t')"
   ]
  },
  {
   "cell_type": "code",
   "execution_count": 22,
   "metadata": {},
   "outputs": [
    {
     "data": {
      "text/plain": [
       "Index(['A1BG', 'AATF', 'ABCA1', 'ABCD4', 'ABCG2', 'AC006262.5', 'AC009133.12',\n",
       "       'AC093673.5', 'ACAT2', 'ACTA2',\n",
       "       ...\n",
       "       'ZFP36L1', 'ZFPM1', 'ZMAT3', 'ZNF281', 'ZNF326', 'ZNF467', 'ZNF703',\n",
       "       'cycle', 'variant', 'Variant functional class'],\n",
       "      dtype='object', length=1227)"
      ]
     },
     "execution_count": 22,
     "metadata": {},
     "output_type": "execute_result"
    }
   ],
   "source": [
    "counts.columns"
   ]
  },
  {
   "cell_type": "code",
   "execution_count": 6,
   "metadata": {},
   "outputs": [],
   "source": [
    "vfc = pd.DataFrame(barcodes.cell_type.unique(), columns = ['Variant']).dropna()\n",
    "vfc['Variant functional class'] = vfc['Variant'].str.contains('R175H').replace({True:'Impactful II', False:'WT-like'})\n",
    "vfc.loc[vfc.Variant.isin(['eGFP','EV.BC9']),'Variant functional class'] = 'Control'\n",
    "# vfc['Variant'] = vfc.Variant.str.replace('R175H.', '')\n",
    "vfc.to_csv('~/data/nabid_data/p53pilot/Data/RawData/filtered_feature_bc_matrix/nabid_tp53.variants.csv', index=False, sep=',')"
   ]
  },
  {
   "cell_type": "code",
   "execution_count": 7,
   "metadata": {},
   "outputs": [
    {
     "data": {
      "text/html": [
       "<div>\n",
       "<style scoped>\n",
       "    .dataframe tbody tr th:only-of-type {\n",
       "        vertical-align: middle;\n",
       "    }\n",
       "\n",
       "    .dataframe tbody tr th {\n",
       "        vertical-align: top;\n",
       "    }\n",
       "\n",
       "    .dataframe thead th {\n",
       "        text-align: right;\n",
       "    }\n",
       "</style>\n",
       "<table border=\"1\" class=\"dataframe\">\n",
       "  <thead>\n",
       "    <tr style=\"text-align: right;\">\n",
       "      <th></th>\n",
       "      <th>Variant</th>\n",
       "      <th>Variant functional class</th>\n",
       "    </tr>\n",
       "  </thead>\n",
       "  <tbody>\n",
       "    <tr>\n",
       "      <th>0</th>\n",
       "      <td>R175H.P53.BC8</td>\n",
       "      <td>Impactful II</td>\n",
       "    </tr>\n",
       "    <tr>\n",
       "      <th>1</th>\n",
       "      <td>EV.BC9</td>\n",
       "      <td>Control</td>\n",
       "    </tr>\n",
       "    <tr>\n",
       "      <th>3</th>\n",
       "      <td>P53.BC3</td>\n",
       "      <td>WT-like</td>\n",
       "    </tr>\n",
       "    <tr>\n",
       "      <th>4</th>\n",
       "      <td>P53.BC2</td>\n",
       "      <td>WT-like</td>\n",
       "    </tr>\n",
       "    <tr>\n",
       "      <th>5</th>\n",
       "      <td>R175H.P53.BC5</td>\n",
       "      <td>Impactful II</td>\n",
       "    </tr>\n",
       "    <tr>\n",
       "      <th>6</th>\n",
       "      <td>eGFP</td>\n",
       "      <td>Control</td>\n",
       "    </tr>\n",
       "    <tr>\n",
       "      <th>7</th>\n",
       "      <td>P53.BC4</td>\n",
       "      <td>WT-like</td>\n",
       "    </tr>\n",
       "    <tr>\n",
       "      <th>8</th>\n",
       "      <td>R175H.P53.BC7</td>\n",
       "      <td>Impactful II</td>\n",
       "    </tr>\n",
       "    <tr>\n",
       "      <th>9</th>\n",
       "      <td>P53.BC1</td>\n",
       "      <td>WT-like</td>\n",
       "    </tr>\n",
       "    <tr>\n",
       "      <th>10</th>\n",
       "      <td>R175H.P53.BC6</td>\n",
       "      <td>Impactful II</td>\n",
       "    </tr>\n",
       "  </tbody>\n",
       "</table>\n",
       "</div>"
      ],
      "text/plain": [
       "          Variant Variant functional class\n",
       "0   R175H.P53.BC8             Impactful II\n",
       "1          EV.BC9                  Control\n",
       "3         P53.BC3                  WT-like\n",
       "4         P53.BC2                  WT-like\n",
       "5   R175H.P53.BC5             Impactful II\n",
       "6            eGFP                  Control\n",
       "7         P53.BC4                  WT-like\n",
       "8   R175H.P53.BC7             Impactful II\n",
       "9         P53.BC1                  WT-like\n",
       "10  R175H.P53.BC6             Impactful II"
      ]
     },
     "execution_count": 7,
     "metadata": {},
     "output_type": "execute_result"
    }
   ],
   "source": [
    "vfc"
   ]
  },
  {
   "cell_type": "code",
   "execution_count": 34,
   "metadata": {},
   "outputs": [],
   "source": [
    "meta = pd.DataFrame({'phase.multi':'Unknown', 'cell':barcodes.index})\n",
    "meta.to_csv('~/data/nabid_data/p53pilot/Data/RawData/filtered_feature_bc_matrix/nabid_tp53.metadata.csv', index=False, sep=',')"
   ]
  },
  {
   "cell_type": "code",
   "execution_count": null,
   "metadata": {},
   "outputs": [],
   "source": []
  },
  {
   "cell_type": "markdown",
   "metadata": {},
   "source": [
    "# Classifiers"
   ]
  },
  {
   "cell_type": "code",
   "execution_count": 15,
   "metadata": {},
   "outputs": [],
   "source": [
    "random_state = 42"
   ]
  },
  {
   "cell_type": "code",
   "execution_count": 16,
   "metadata": {},
   "outputs": [],
   "source": [
    "N = 900\n",
    "x_nabid = x_nabid.sample(N, random_state=random_state)\n",
    "y_nabid = y_nabid.loc[x_nabid.index]\n",
    "x_ursu = x_ursu.sample(N, random_state=random_state)\n",
    "y_ursu = y_ursu.loc[x_ursu.index]"
   ]
  },
  {
   "cell_type": "code",
   "execution_count": 20,
   "metadata": {},
   "outputs": [],
   "source": [
    "ursu_cls = LogisticRegression(random_state=random_state, max_iter=1000)\n",
    "nabid_cls = Pipeline([\n",
    "    ('norm',StandardScaler()), \n",
    "    ('cls',LogisticRegression(random_state=random_state, max_iter=1000))]\n",
    ")"
   ]
  },
  {
   "cell_type": "code",
   "execution_count": 21,
   "metadata": {},
   "outputs": [
    {
     "name": "stderr",
     "output_type": "stream",
     "text": [
      "/home/lguirardel/miniconda3/envs/torch/lib/python3.11/site-packages/sklearn/linear_model/_logistic.py:460: ConvergenceWarning: lbfgs failed to converge (status=1):\n",
      "STOP: TOTAL NO. of ITERATIONS REACHED LIMIT.\n",
      "\n",
      "Increase the number of iterations (max_iter) or scale the data as shown in:\n",
      "    https://scikit-learn.org/stable/modules/preprocessing.html\n",
      "Please also refer to the documentation for alternative solver options:\n",
      "    https://scikit-learn.org/stable/modules/linear_model.html#logistic-regression\n",
      "  n_iter_i = _check_optimize_result(\n",
      "/home/lguirardel/miniconda3/envs/torch/lib/python3.11/site-packages/sklearn/linear_model/_logistic.py:460: ConvergenceWarning: lbfgs failed to converge (status=1):\n",
      "STOP: TOTAL NO. of ITERATIONS REACHED LIMIT.\n",
      "\n",
      "Increase the number of iterations (max_iter) or scale the data as shown in:\n",
      "    https://scikit-learn.org/stable/modules/preprocessing.html\n",
      "Please also refer to the documentation for alternative solver options:\n",
      "    https://scikit-learn.org/stable/modules/linear_model.html#logistic-regression\n",
      "  n_iter_i = _check_optimize_result(\n",
      "/home/lguirardel/miniconda3/envs/torch/lib/python3.11/site-packages/sklearn/linear_model/_logistic.py:460: ConvergenceWarning: lbfgs failed to converge (status=1):\n",
      "STOP: TOTAL NO. of ITERATIONS REACHED LIMIT.\n",
      "\n",
      "Increase the number of iterations (max_iter) or scale the data as shown in:\n",
      "    https://scikit-learn.org/stable/modules/preprocessing.html\n",
      "Please also refer to the documentation for alternative solver options:\n",
      "    https://scikit-learn.org/stable/modules/linear_model.html#logistic-regression\n",
      "  n_iter_i = _check_optimize_result(\n",
      "/home/lguirardel/miniconda3/envs/torch/lib/python3.11/site-packages/sklearn/linear_model/_logistic.py:460: ConvergenceWarning: lbfgs failed to converge (status=1):\n",
      "STOP: TOTAL NO. of ITERATIONS REACHED LIMIT.\n",
      "\n",
      "Increase the number of iterations (max_iter) or scale the data as shown in:\n",
      "    https://scikit-learn.org/stable/modules/preprocessing.html\n",
      "Please also refer to the documentation for alternative solver options:\n",
      "    https://scikit-learn.org/stable/modules/linear_model.html#logistic-regression\n",
      "  n_iter_i = _check_optimize_result(\n",
      "/home/lguirardel/miniconda3/envs/torch/lib/python3.11/site-packages/sklearn/linear_model/_logistic.py:460: ConvergenceWarning: lbfgs failed to converge (status=1):\n",
      "STOP: TOTAL NO. of ITERATIONS REACHED LIMIT.\n",
      "\n",
      "Increase the number of iterations (max_iter) or scale the data as shown in:\n",
      "    https://scikit-learn.org/stable/modules/preprocessing.html\n",
      "Please also refer to the documentation for alternative solver options:\n",
      "    https://scikit-learn.org/stable/modules/linear_model.html#logistic-regression\n",
      "  n_iter_i = _check_optimize_result(\n"
     ]
    },
    {
     "data": {
      "text/plain": [
       "array([0.66666667, 0.67222222, 0.7       , 0.66666667, 0.73333333])"
      ]
     },
     "execution_count": 21,
     "metadata": {},
     "output_type": "execute_result"
    }
   ],
   "source": [
    "cv_ursu = cross_val_score(ursu_cls, x_ursu, y_ursu, cv=5)\n",
    "cv_ursu"
   ]
  },
  {
   "cell_type": "code",
   "execution_count": 22,
   "metadata": {},
   "outputs": [
    {
     "data": {
      "text/plain": [
       "array([0.89444444, 0.87777778, 0.92222222, 0.9       , 0.88333333])"
      ]
     },
     "execution_count": 22,
     "metadata": {},
     "output_type": "execute_result"
    }
   ],
   "source": [
    "cv_nabid = cross_val_score(nabid_cls, x_nabid, y_nabid, cv=5)\n",
    "cv_nabid"
   ]
  },
  {
   "cell_type": "code",
   "execution_count": 25,
   "metadata": {},
   "outputs": [
    {
     "data": {
      "image/png": "[encoded data removed]",
      "text/plain": [
       "<Figure size 640x480 with 1 Axes>"
      ]
     },
     "metadata": {},
     "output_type": "display_data"
    }
   ],
   "source": [
    "# score bar plot\n",
    "scores = pd.DataFrame({'Ursu':cv_ursu, 'Nabid':cv_nabid})\n",
    "scores = scores.melt(var_name='Dataset', value_name='Accuracy')\n",
    "sns.barplot(data=scores, x='Dataset', y='Accuracy')\n",
    "plt.title('Cross-validation accuracy')\n",
    "plt.savefig(f'plots/scores/{GENE}_nabid_vs_ursu_{data_type}.pdf')\n",
    "plt.show() "
   ]
  },
  {
   "cell_type": "code",
   "execution_count": null,
   "metadata": {},
   "outputs": [
    {
     "data": {
      "text/plain": [
       "(900, 36601)"
      ]
     },
     "execution_count": 84,
     "metadata": {},
     "output_type": "execute_result"
    }
   ],
   "source": [
    "x_nabid.shape"
   ]
  },
  {
   "cell_type": "code",
   "execution_count": null,
   "metadata": {},
   "outputs": [
    {
     "data": {
      "text/plain": [
       "(900, 1224)"
      ]
     },
     "execution_count": 85,
     "metadata": {},
     "output_type": "execute_result"
    }
   ],
   "source": [
    "x_ursu.shape"
   ]
  },
  {
   "cell_type": "markdown",
   "metadata": {},
   "source": [
    "## Data split"
   ]
  },
  {
   "cell_type": "markdown",
   "metadata": {},
   "source": [
    "## Normalizing Nabids data"
   ]
  },
  {
   "cell_type": "code",
   "execution_count": null,
   "metadata": {},
   "outputs": [],
   "source": []
  }
 ],
 "metadata": {
  "kernelspec": {
   "display_name": "torch",
   "language": "python",
   "name": "python3"
  },
  "language_info": {
   "codemirror_mode": {
    "name": "ipython",
    "version": 3
   },
   "file_extension": ".py",
   "mimetype": "text/x-python",
   "name": "python",
   "nbconvert_exporter": "python",
   "pygments_lexer": "ipython3",
   "version": "3.11.5"
  }
 },
 "nbformat": 4,
 "nbformat_minor": 2
}
