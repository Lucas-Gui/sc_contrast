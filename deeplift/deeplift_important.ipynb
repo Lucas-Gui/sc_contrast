{
 "cells": [
  {
   "cell_type": "markdown",
   "metadata": {},
   "source": [
    "# Imports"
   ]
  },
  {
   "cell_type": "markdown",
   "metadata": {},
   "source": [
    "Works with\n",
    "```\n",
    "python 3.7.16 \n",
    "tf 1.15.0\n",
    "h5py 3.8.0\n",
    "deeplift 0.6.12.0\n",
    "```"
   ]
  },
  {
   "cell_type": "code",
   "execution_count": 1,
   "metadata": {},
   "outputs": [
    {
     "name": "stdout",
     "output_type": "stream",
     "text": [
      "python 3.7.16 (default, Jan 17 2023, 22:20:44) \n",
      "[GCC 11.2.0]\n",
      "tf 1.15.0\n",
      "h5py 3.8.0\n",
      "deeplift 0.6.12.0\n"
     ]
    }
   ],
   "source": [
    "import tensorflow as tf\n",
    "import pandas as pd\n",
    "import numpy as np\n",
    "import matplotlib.pyplot as plt\n",
    "import seaborn as sns\n",
    "from sklearn.model_selection import train_test_split\n",
    "from tensorflow.keras import layers as layers\n",
    "from deeplift.conversion import kerasapi_conversion as kc\n",
    "import sys, h5py, deeplift\n",
    "print('python', sys.version)\n",
    "print('tf', tf.__version__)\n",
    "print('h5py', h5py.__version__)\n",
    "print('deeplift', deeplift.__version__)"
   ]
  },
  {
   "cell_type": "code",
   "execution_count": 2,
   "metadata": {},
   "outputs": [],
   "source": [
    "import deeplift_utils"
   ]
  },
  {
   "cell_type": "markdown",
   "metadata": {},
   "source": [
    "# Constants"
   ]
  },
  {
   "cell_type": "code",
   "execution_count": 6,
   "metadata": {},
   "outputs": [],
   "source": [
    "REP = 'out'\n",
    "MODEL_DIR = 'models'\n",
    "K = 10 # number of samples for the random reference\n",
    "N_BEST_GENES = 70\n",
    "DATA_PATH = '~/data/nabid/pilot2filtered.csv'\n",
    "MODEL_DIR = 'models/'"
   ]
  },
  {
   "cell_type": "code",
   "execution_count": 7,
   "metadata": {},
   "outputs": [],
   "source": [
    "rng=np.random.default_rng()"
   ]
  },
  {
   "cell_type": "markdown",
   "metadata": {},
   "source": [
    "# Data"
   ]
  },
  {
   "cell_type": "code",
   "execution_count": 8,
   "metadata": {},
   "outputs": [
    {
     "name": "stdout",
     "output_type": "stream",
     "text": [
      "382.69156289100647 Read csv\n",
      "114.67538571357727 remove_cst\n",
      "1.33327054977417 normalize\n"
     ]
    }
   ],
   "source": [
    "data = deeplift_utils.get_p53(\n",
    "    dataset_path=DATA_PATH, labelled=True, normalize='standard', thresh=2e-2, )"
   ]
  },
  {
   "cell_type": "code",
   "execution_count": 9,
   "metadata": {},
   "outputs": [],
   "source": [
    "data = data[data.allele.isin(['wt','mut'])]\n",
    "X = data.iloc[:,:-3].to_numpy()\n",
    "Y = pd.get_dummies(data.allele).astype(int).to_numpy()\n",
    "X_train, X_test , Y_train, Y_test = train_test_split(X,Y, train_size=0.8)\n",
    "X_train, X_valid, Y_train, Y_valid = train_test_split(X_train, Y_train , train_size=0.9)"
   ]
  },
  {
   "cell_type": "markdown",
   "metadata": {},
   "source": [
    "# Training and saving model"
   ]
  },
  {
   "cell_type": "code",
   "execution_count": 10,
   "metadata": {},
   "outputs": [
    {
     "name": "stdout",
     "output_type": "stream",
     "text": [
      "WARNING:tensorflow:From /home/lucas/miniconda3/envs/deeplift/lib/python3.7/site-packages/tensorflow_core/python/ops/resource_variable_ops.py:1630: calling BaseResourceVariable.__init__ (from tensorflow.python.ops.resource_variable_ops) with constraint is deprecated and will be removed in a future version.\n",
      "Instructions for updating:\n",
      "If using Keras pass *_constraint arguments to layers.\n"
     ]
    },
    {
     "name": "stderr",
     "output_type": "stream",
     "text": [
      "2024-04-23 18:22:32.714683: W tensorflow/stream_executor/platform/default/dso_loader.cc:55] Could not load dynamic library 'libcuda.so.1'; dlerror: libcuda.so.1: cannot open shared object file: No such file or directory\n",
      "2024-04-23 18:22:32.714822: E tensorflow/stream_executor/cuda/cuda_driver.cc:318] failed call to cuInit: UNKNOWN ERROR (303)\n",
      "2024-04-23 18:22:32.714889: I tensorflow/stream_executor/cuda/cuda_diagnostics.cc:156] kernel driver does not appear to be running on this host (lonicera): /proc/driver/nvidia/version does not exist\n",
      "2024-04-23 18:22:32.720475: I tensorflow/core/platform/cpu_feature_guard.cc:142] Your CPU supports instructions that this TensorFlow binary was not compiled to use: AVX2 AVX512F FMA\n",
      "2024-04-23 18:22:32.749908: I tensorflow/core/platform/profile_utils/cpu_utils.cc:94] CPU Frequency: 2611200000 Hz\n",
      "2024-04-23 18:22:32.751317: I tensorflow/compiler/xla/service/service.cc:168] XLA service 0x22e03d0 initialized for platform Host (this does not guarantee that XLA will be used). Devices:\n",
      "2024-04-23 18:22:32.751400: I tensorflow/compiler/xla/service/service.cc:176]   StreamExecutor device (0): Host, Default Version\n"
     ]
    },
    {
     "name": "stdout",
     "output_type": "stream",
     "text": [
      "Train on 2052 samples, validate on 570 samples\n",
      "Epoch 1/4\n",
      "2052/2052 [==============================] - 1s 388us/sample - loss: 0.3421 - categorical_accuracy: 0.8402 - val_loss: 0.2267 - val_categorical_accuracy: 0.9088\n",
      "Epoch 2/4\n",
      "2052/2052 [==============================] - 1s 322us/sample - loss: 0.2094 - categorical_accuracy: 0.9196 - val_loss: 0.2184 - val_categorical_accuracy: 0.9105\n",
      "Epoch 3/4\n",
      "2052/2052 [==============================] - 1s 316us/sample - loss: 0.1872 - categorical_accuracy: 0.9220 - val_loss: 0.2476 - val_categorical_accuracy: 0.9105\n",
      "Epoch 4/4\n",
      "2052/2052 [==============================] - 1s 376us/sample - loss: 0.1685 - categorical_accuracy: 0.9288 - val_loss: 0.2234 - val_categorical_accuracy: 0.9211\n"
     ]
    }
   ],
   "source": [
    "model = deeplift_utils.make_model(X, shape=[70]*2)\n",
    "hist = model.fit(X_train, Y_train, validation_data=(X_test, Y_test), \n",
    "                 epochs=4\n",
    "                 )"
   ]
  },
  {
   "cell_type": "code",
   "execution_count": 11,
   "metadata": {},
   "outputs": [
    {
     "data": {
      "image/png": "[encoded data removed]",
      "text/plain": [
       "<Figure size 640x480 with 2 Axes>"
      ]
     },
     "metadata": {},
     "output_type": "display_data"
    },
    {
     "name": "stdout",
     "output_type": "stream",
     "text": [
      "0.9342105263157894\n"
     ]
    }
   ],
   "source": [
    "Y_pred = model.predict(X_valid)\n",
    "Y_pred = pd.DataFrame(np.where(Y_pred>0.5, 1, 0),  columns=['mut', 'wt'])\n",
    "C = deeplift_utils.confusion_matrix(pd.DataFrame(Y_valid, columns=['mut', 'wt']), Y_pred)\n",
    "print(C.iloc[0,0]+C.iloc[1,1])"
   ]
  },
  {
   "cell_type": "code",
   "execution_count": 12,
   "metadata": {},
   "outputs": [],
   "source": [
    "config = model.to_json()\n",
    "tf.keras.models.save_model(model,f'{MODEL_DIR}/model.h5')\n",
    "with open(f'{MODEL_DIR}/cfg.json', 'w') as writer:\n",
    "    writer.write(config)"
   ]
  },
  {
   "cell_type": "markdown",
   "metadata": {},
   "source": [
    "# Converting model to DeepLIFT"
   ]
  },
  {
   "cell_type": "code",
   "execution_count": 14,
   "metadata": {},
   "outputs": [
    {
     "name": "stdout",
     "output_type": "stream",
     "text": [
      "nonlinear_mxts_mode is set to: DeepLIFT_GenomicsDefault\n",
      "WARNING:tensorflow:From /home/lucas/miniconda3/envs/deeplift/lib/python3.7/site-packages/deeplift/layers/core.py:207: The name tf.placeholder is deprecated. Please use tf.compat.v1.placeholder instead.\n",
      "\n",
      "For layer 1 the preceding linear layer is preact_1 of type Dense;\n",
      "In accordance with nonlinear_mxts_modeDeepLIFT_GenomicsDefault we are setting the NonlinearMxtsMode to RevealCancel\n",
      "For layer 2 the preceding linear layer is preact_2 of type Dense;\n",
      "In accordance with nonlinear_mxts_modeDeepLIFT_GenomicsDefault we are setting the NonlinearMxtsMode to RevealCancel\n"
     ]
    },
    {
     "name": "stdout",
     "output_type": "stream",
     "text": [
      "Heads-up: I assume softmax is the output layer, not an intermediate one; if it's an intermediate layer, please let me know and I will prioritise that use-case\n",
      "For layer 3 the preceding linear layer is preact_3 of type Dense;\n",
      "In accordance with nonlinear_mxts_modeDeepLIFT_GenomicsDefault we are setting the NonlinearMxtsMode to RevealCancel\n"
     ]
    }
   ],
   "source": [
    "converted = kc.convert_model_from_saved_files(\n",
    "    f'{MODEL_DIR}/model.h5', json_file=f'{MODEL_DIR}/cfg.json')"
   ]
  },
  {
   "cell_type": "code",
   "execution_count": 15,
   "metadata": {},
   "outputs": [
    {
     "name": "stdout",
     "output_type": "stream",
     "text": [
      "MAKING A SESSION\n",
      "WARNING:tensorflow:From /home/lucas/miniconda3/envs/deeplift/lib/python3.7/site-packages/deeplift/util.py:28: The name tf.Session is deprecated. Please use tf.compat.v1.Session instead.\n",
      "\n",
      "WARNING:tensorflow:From /home/lucas/miniconda3/envs/deeplift/lib/python3.7/site-packages/deeplift/util.py:29: The name tf.global_variables_initializer is deprecated. Please use tf.compat.v1.global_variables_initializer instead.\n",
      "\n",
      "WARNING:tensorflow:From /home/lucas/miniconda3/envs/deeplift/lib/python3.7/site-packages/deeplift/layers/core.py:455: The name tf.variables_initializer is deprecated. Please use tf.compat.v1.variables_initializer instead.\n",
      "\n",
      "WARNING:tensorflow:From /home/lucas/miniconda3/envs/deeplift/lib/python3.7/site-packages/deeplift/layers/core.py:471: The name tf.assign is deprecated. Please use tf.compat.v1.assign instead.\n",
      "\n",
      "WARNING:tensorflow:From /home/lucas/miniconda3/envs/deeplift/lib/python3.7/site-packages/deeplift/layers/core.py:473: The name tf.scatter_update is deprecated. Please use tf.compat.v1.scatter_update instead.\n",
      "\n"
     ]
    }
   ],
   "source": [
    "contribs_f = converted.get_target_contribs_func(\n",
    "                            find_scores_layer_idx=0,\n",
    "                            target_layer_idx=-2)"
   ]
  },
  {
   "cell_type": "markdown",
   "metadata": {},
   "source": [
    "# Cells and references"
   ]
  },
  {
   "cell_type": "code",
   "execution_count": 16,
   "metadata": {},
   "outputs": [],
   "source": [
    "Y_pred = model.predict(X)\n",
    "# subgroups along the model's prediction\n",
    "Xpos = X[Y_pred[:,0]>0.5]\n",
    "Xneg = X[Y_pred[:,0]<0.5]\n",
    "# sampling along true alleles for the reference. could also do mean over the group\n",
    "Rpos = lambda n: rng.choice(X[Y[:,0]==1], replace=True, size=n)\n",
    "Rneg = lambda n: rng.choice(X[Y[:,0]==0], replace=True, size=n)"
   ]
  },
  {
   "cell_type": "code",
   "execution_count": 17,
   "metadata": {},
   "outputs": [
    {
     "name": "stdout",
     "output_type": "stream",
     "text": [
      "Done 0\n",
      "Done 0\n",
      "Done 0\n",
      "Done 0\n",
      "Done 0\n",
      "Done 0\n",
      "Done 0\n",
      "Done 0\n",
      "Done 0\n",
      "Done 0\n",
      "Done 0\n",
      "Done 0\n",
      "Done 0\n",
      "Done 0\n",
      "Done 0\n",
      "Done 0\n",
      "Done 0\n",
      "Done 0\n",
      "Done 0\n",
      "Done 0\n"
     ]
    }
   ],
   "source": [
    "imp = []\n",
    "for (ref,i) in zip([Rpos, Rneg], ['+','-']) : \n",
    "    sample,j = (Xpos, '+') if i == '-' else (Xneg, '-')\n",
    "    for ix in range(K):\n",
    "        A = np.array(contribs_f(task_idx=0,\n",
    "                                    input_data_list=[sample],\n",
    "                                    batch_size=10,\n",
    "                                    progress_update=10000,\n",
    "                                    input_references_list=[ref(sample.shape[0])])) \n",
    "        imp.append([*np.abs(A).mean(axis=0)])\n",
    "scores = pd.DataFrame(imp, columns=[ *data.columns[:-3]])\n",
    "scores = scores.mean(axis=0)\n"
   ]
  },
  {
   "cell_type": "code",
   "execution_count": 18,
   "metadata": {},
   "outputs": [],
   "source": [
    "best_genes = scores.sort_values(ascending=False).iloc[:N_BEST_GENES]"
   ]
  },
  {
   "cell_type": "code",
   "execution_count": 19,
   "metadata": {},
   "outputs": [
    {
     "data": {
      "text/plain": [
       "ENSG00000241860    0.000401\n",
       "ENSG00000237491    0.000252\n",
       "ENSG00000228794    0.000498\n",
       "ENSG00000225880    0.000153\n",
       "ENSG00000230699    0.000440\n",
       "                     ...   \n",
       "ENSG00000278704    0.000278\n",
       "ENSG00000276256    0.000412\n",
       "ENSG00000278384    0.000525\n",
       "ENSG00000271254    0.000814\n",
       "ENSG00000278817    0.000630\n",
       "Length: 12931, dtype: float32"
      ]
     },
     "execution_count": 19,
     "metadata": {},
     "output_type": "execute_result"
    }
   ],
   "source": [
    "scores"
   ]
  },
  {
   "cell_type": "code",
   "execution_count": 20,
   "metadata": {},
   "outputs": [
    {
     "data": {
      "text/plain": [
       "ENSG00000054148    0.025160\n",
       "ENSG00000087088    0.020780\n",
       "ENSG00000185088    0.018010\n",
       "ENSG00000161513    0.016189\n",
       "ENSG00000078237    0.015826\n",
       "                     ...   \n",
       "ENSG00000139433    0.007441\n",
       "ENSG00000196220    0.007410\n",
       "ENSG00000120889    0.007331\n",
       "ENSG00000182220    0.007322\n",
       "ENSG00000188157    0.007300\n",
       "Length: 70, dtype: float32"
      ]
     },
     "execution_count": 20,
     "metadata": {},
     "output_type": "execute_result"
    }
   ],
   "source": [
    "best_genes"
   ]
  },
  {
   "cell_type": "markdown",
   "metadata": {},
   "source": [
    "# Importance results"
   ]
  },
  {
   "cell_type": "code",
   "execution_count": 21,
   "metadata": {},
   "outputs": [
    {
     "data": {
      "text/plain": [
       "Text(0.5, 1.0, 'Contribution scores distribution')"
      ]
     },
     "execution_count": 21,
     "metadata": {},
     "output_type": "execute_result"
    },
    {
     "data": {
      "image/png": "[encoded data removed]",
      "text/plain": [
       "<Figure size 640x480 with 1 Axes>"
      ]
     },
     "metadata": {},
     "output_type": "display_data"
    }
   ],
   "source": [
    "sns.histplot(scores)\n",
    "# plt.yscale('log')\n",
    "plt.title('Contribution scores distribution')\n"
   ]
  },
  {
   "cell_type": "code",
   "execution_count": 22,
   "metadata": {},
   "outputs": [],
   "source": [
    "df = data[best_genes.index].copy() #silence warning\n",
    "df['allele'] = data['allele'] \n",
    "df = df.melt(value_name='Expression', var_name='gene', id_vars='allele')"
   ]
  },
  {
   "cell_type": "code",
   "execution_count": 23,
   "metadata": {},
   "outputs": [
    {
     "data": {
      "text/html": [
       "<div>\n",
       "<style scoped>\n",
       "    .dataframe tbody tr th:only-of-type {\n",
       "        vertical-align: middle;\n",
       "    }\n",
       "\n",
       "    .dataframe tbody tr th {\n",
       "        vertical-align: top;\n",
       "    }\n",
       "\n",
       "    .dataframe thead th {\n",
       "        text-align: right;\n",
       "    }\n",
       "</style>\n",
       "<table border=\"1\" class=\"dataframe\">\n",
       "  <thead>\n",
       "    <tr style=\"text-align: right;\">\n",
       "      <th></th>\n",
       "      <th>allele</th>\n",
       "      <th>gene</th>\n",
       "      <th>Expression</th>\n",
       "    </tr>\n",
       "  </thead>\n",
       "  <tbody>\n",
       "    <tr>\n",
       "      <th>0</th>\n",
       "      <td>mut</td>\n",
       "      <td>ENSG00000054148</td>\n",
       "      <td>-0.386866</td>\n",
       "    </tr>\n",
       "    <tr>\n",
       "      <th>1</th>\n",
       "      <td>wt</td>\n",
       "      <td>ENSG00000054148</td>\n",
       "      <td>-1.129578</td>\n",
       "    </tr>\n",
       "    <tr>\n",
       "      <th>2</th>\n",
       "      <td>wt</td>\n",
       "      <td>ENSG00000054148</td>\n",
       "      <td>0.541523</td>\n",
       "    </tr>\n",
       "    <tr>\n",
       "      <th>3</th>\n",
       "      <td>mut</td>\n",
       "      <td>ENSG00000054148</td>\n",
       "      <td>0.912879</td>\n",
       "    </tr>\n",
       "    <tr>\n",
       "      <th>4</th>\n",
       "      <td>mut</td>\n",
       "      <td>ENSG00000054148</td>\n",
       "      <td>-0.386866</td>\n",
       "    </tr>\n",
       "    <tr>\n",
       "      <th>...</th>\n",
       "      <td>...</td>\n",
       "      <td>...</td>\n",
       "      <td>...</td>\n",
       "    </tr>\n",
       "    <tr>\n",
       "      <th>199495</th>\n",
       "      <td>wt</td>\n",
       "      <td>ENSG00000188157</td>\n",
       "      <td>-0.409958</td>\n",
       "    </tr>\n",
       "    <tr>\n",
       "      <th>199496</th>\n",
       "      <td>wt</td>\n",
       "      <td>ENSG00000188157</td>\n",
       "      <td>-0.409958</td>\n",
       "    </tr>\n",
       "    <tr>\n",
       "      <th>199497</th>\n",
       "      <td>mut</td>\n",
       "      <td>ENSG00000188157</td>\n",
       "      <td>-0.409958</td>\n",
       "    </tr>\n",
       "    <tr>\n",
       "      <th>199498</th>\n",
       "      <td>wt</td>\n",
       "      <td>ENSG00000188157</td>\n",
       "      <td>1.647813</td>\n",
       "    </tr>\n",
       "    <tr>\n",
       "      <th>199499</th>\n",
       "      <td>wt</td>\n",
       "      <td>ENSG00000188157</td>\n",
       "      <td>-0.409958</td>\n",
       "    </tr>\n",
       "  </tbody>\n",
       "</table>\n",
       "<p>199500 rows × 3 columns</p>\n",
       "</div>"
      ],
      "text/plain": [
       "       allele             gene  Expression\n",
       "0         mut  ENSG00000054148   -0.386866\n",
       "1          wt  ENSG00000054148   -1.129578\n",
       "2          wt  ENSG00000054148    0.541523\n",
       "3         mut  ENSG00000054148    0.912879\n",
       "4         mut  ENSG00000054148   -0.386866\n",
       "...       ...              ...         ...\n",
       "199495     wt  ENSG00000188157   -0.409958\n",
       "199496     wt  ENSG00000188157   -0.409958\n",
       "199497    mut  ENSG00000188157   -0.409958\n",
       "199498     wt  ENSG00000188157    1.647813\n",
       "199499     wt  ENSG00000188157   -0.409958\n",
       "\n",
       "[199500 rows x 3 columns]"
      ]
     },
     "execution_count": 23,
     "metadata": {},
     "output_type": "execute_result"
    }
   ],
   "source": [
    "df"
   ]
  },
  {
   "cell_type": "code",
   "execution_count": 24,
   "metadata": {},
   "outputs": [
    {
     "data": {
      "text/plain": [
       "<AxesSubplot:xlabel='gene', ylabel='Expression'>"
      ]
     },
     "execution_count": 24,
     "metadata": {},
     "output_type": "execute_result"
    },
    {
     "data": {
      "image/png": "[encoded data removed]",
      "text/plain": [
       "<Figure size 1200x600 with 1 Axes>"
      ]
     },
     "metadata": {},
     "output_type": "display_data"
    }
   ],
   "source": [
    "plt.gcf().set_size_inches([12,6])\n",
    "plt.xticks(rotation=90)\n",
    "sns.barplot(data=df, hue='allele', x='gene', y='Expression', order=best_genes.index, dodge=False)\n",
    "# plt.savefig(TEMP_PATH)"
   ]
  },
  {
   "cell_type": "code",
   "execution_count": 25,
   "metadata": {},
   "outputs": [
    {
     "data": {
      "text/html": [
       "<div>\n",
       "<style scoped>\n",
       "    .dataframe tbody tr th:only-of-type {\n",
       "        vertical-align: middle;\n",
       "    }\n",
       "\n",
       "    .dataframe tbody tr th {\n",
       "        vertical-align: top;\n",
       "    }\n",
       "\n",
       "    .dataframe thead th {\n",
       "        text-align: right;\n",
       "    }\n",
       "</style>\n",
       "<table border=\"1\" class=\"dataframe\">\n",
       "  <thead>\n",
       "    <tr style=\"text-align: right;\">\n",
       "      <th></th>\n",
       "      <th>allele</th>\n",
       "      <th>gene</th>\n",
       "      <th>Expression</th>\n",
       "    </tr>\n",
       "  </thead>\n",
       "  <tbody>\n",
       "    <tr>\n",
       "      <th>0</th>\n",
       "      <td>mut</td>\n",
       "      <td>ENSG00000054148</td>\n",
       "      <td>-0.386866</td>\n",
       "    </tr>\n",
       "    <tr>\n",
       "      <th>1</th>\n",
       "      <td>wt</td>\n",
       "      <td>ENSG00000054148</td>\n",
       "      <td>-1.129578</td>\n",
       "    </tr>\n",
       "    <tr>\n",
       "      <th>2</th>\n",
       "      <td>wt</td>\n",
       "      <td>ENSG00000054148</td>\n",
       "      <td>0.541523</td>\n",
       "    </tr>\n",
       "    <tr>\n",
       "      <th>3</th>\n",
       "      <td>mut</td>\n",
       "      <td>ENSG00000054148</td>\n",
       "      <td>0.912879</td>\n",
       "    </tr>\n",
       "    <tr>\n",
       "      <th>4</th>\n",
       "      <td>mut</td>\n",
       "      <td>ENSG00000054148</td>\n",
       "      <td>-0.386866</td>\n",
       "    </tr>\n",
       "    <tr>\n",
       "      <th>...</th>\n",
       "      <td>...</td>\n",
       "      <td>...</td>\n",
       "      <td>...</td>\n",
       "    </tr>\n",
       "    <tr>\n",
       "      <th>199495</th>\n",
       "      <td>wt</td>\n",
       "      <td>ENSG00000188157</td>\n",
       "      <td>-0.409958</td>\n",
       "    </tr>\n",
       "    <tr>\n",
       "      <th>199496</th>\n",
       "      <td>wt</td>\n",
       "      <td>ENSG00000188157</td>\n",
       "      <td>-0.409958</td>\n",
       "    </tr>\n",
       "    <tr>\n",
       "      <th>199497</th>\n",
       "      <td>mut</td>\n",
       "      <td>ENSG00000188157</td>\n",
       "      <td>-0.409958</td>\n",
       "    </tr>\n",
       "    <tr>\n",
       "      <th>199498</th>\n",
       "      <td>wt</td>\n",
       "      <td>ENSG00000188157</td>\n",
       "      <td>1.647813</td>\n",
       "    </tr>\n",
       "    <tr>\n",
       "      <th>199499</th>\n",
       "      <td>wt</td>\n",
       "      <td>ENSG00000188157</td>\n",
       "      <td>-0.409958</td>\n",
       "    </tr>\n",
       "  </tbody>\n",
       "</table>\n",
       "<p>199500 rows × 3 columns</p>\n",
       "</div>"
      ],
      "text/plain": [
       "       allele             gene  Expression\n",
       "0         mut  ENSG00000054148   -0.386866\n",
       "1          wt  ENSG00000054148   -1.129578\n",
       "2          wt  ENSG00000054148    0.541523\n",
       "3         mut  ENSG00000054148    0.912879\n",
       "4         mut  ENSG00000054148   -0.386866\n",
       "...       ...              ...         ...\n",
       "199495     wt  ENSG00000188157   -0.409958\n",
       "199496     wt  ENSG00000188157   -0.409958\n",
       "199497    mut  ENSG00000188157   -0.409958\n",
       "199498     wt  ENSG00000188157    1.647813\n",
       "199499     wt  ENSG00000188157   -0.409958\n",
       "\n",
       "[199500 rows x 3 columns]"
      ]
     },
     "execution_count": 25,
     "metadata": {},
     "output_type": "execute_result"
    }
   ],
   "source": [
    "df"
   ]
  },
  {
   "cell_type": "markdown",
   "metadata": {},
   "source": [
    "# Saving results"
   ]
  },
  {
   "cell_type": "code",
   "execution_count": 26,
   "metadata": {},
   "outputs": [],
   "source": [
    "best_genes.to_csv(f'{REP}/{N_BEST_GENES}_best_genes.csv',header=['score'] )"
   ]
  }
 ],
 "metadata": {
  "kernelspec": {
   "display_name": "deeplift",
   "language": "python",
   "name": "python3"
  },
  "language_info": {
   "codemirror_mode": {
    "name": "ipython",
    "version": 3
   },
   "file_extension": ".py",
   "mimetype": "text/x-python",
   "name": "python",
   "nbconvert_exporter": "python",
   "pygments_lexer": "ipython3",
   "version": "3.7.16"
  }
 },
 "nbformat": 4,
 "nbformat_minor": 2
}
